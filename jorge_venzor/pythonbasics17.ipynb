{
 "cells": [
  {
   "cell_type": "markdown",
   "metadata": {},
   "source": []
  },
  {
   "cell_type": "markdown",
   "metadata": {},
   "source": [
    "# Python for beginners 2017 (in python 3)"
   ]
  },
  {
   "cell_type": "markdown",
   "metadata": {},
   "source": [
    "Contributors: Jorge Venzor, Iván Rodríguez"
   ]
  },
  {
   "cell_type": "markdown",
   "metadata": {},
   "source": [
    "# How to read this notebook\n",
    "\n",
    "\n",
    "Go to Github and Download this course\n",
    "\n",
    "Create the virtual environment for Cinvespy\n",
    "\n",
    "~]$ conda create --name cinvespyenv python=3.6  numpy matplotlib h5py scipy ipython jupyter cython pandas seaborn\n",
    "\n",
    "Activate the virtual environment\n",
    "\n",
    "~]$ source activate cinvespyenv\n",
    "\n",
    "Type the following command \n",
    "\n",
    "(cinvespyenv) ~]$ jupyter notebook jorge_venzor/\n",
    "\n",
    "This will open the Jupyter home, in your favorite web browser\n",
    "\n",
    "Click on pythonbasics17.pynb"
   ]
  },
  {
   "cell_type": "markdown",
   "metadata": {},
   "source": [
    "# Why Python?"
   ]
  },
  {
   "cell_type": "markdown",
   "metadata": {},
   "source": [
    "### Pros:\n",
    "Interpreted language\n",
    "\n",
    "Quick variable declaration\n",
    "\n",
    "Simple sintax\n",
    "\n",
    "Many libraries\n",
    "\n",
    "Runs in Linux, Windows, Mac.\n",
    "\n",
    "Object oriented\n",
    "\n",
    "## Python is Free Open Source"
   ]
  },
  {
   "cell_type": "markdown",
   "metadata": {},
   "source": [
    "### Cons?\n",
    "Slow?\n",
    "\n",
    "But cython and numpy speeds it up a lot!"
   ]
  },
  {
   "cell_type": "markdown",
   "metadata": {},
   "source": [
    "### Print Hola Mundo"
   ]
  },
  {
   "cell_type": "code",
   "execution_count": 250,
   "metadata": {},
   "outputs": [
    {
     "name": "stdout",
     "output_type": "stream",
     "text": [
      "hola mundo\n"
     ]
    }
   ],
   "source": [
    "print (\"hola mundo\")"
   ]
  },
  {
   "cell_type": "markdown",
   "metadata": {},
   "source": [
    "At the headers of any script we should upload every libraries to be used below"
   ]
  },
  {
   "cell_type": "code",
   "execution_count": 251,
   "metadata": {
    "collapsed": true
   },
   "outputs": [],
   "source": [
    "import numpy as np\n",
    "import h5py"
   ]
  },
  {
   "cell_type": "markdown",
   "metadata": {},
   "source": [
    "### Basic objects: integers, floats, complex, strings, and boolean"
   ]
  },
  {
   "cell_type": "code",
   "execution_count": 252,
   "metadata": {
    "scrolled": true
   },
   "outputs": [
    {
     "data": {
      "text/plain": [
       "(int, float, complex, str, bool)"
      ]
     },
     "execution_count": 252,
     "metadata": {},
     "output_type": "execute_result"
    }
   ],
   "source": [
    "type(5),type(3.14),type(3+3j),type(\"hi\"),type(True)"
   ]
  },
  {
   "cell_type": "markdown",
   "metadata": {},
   "source": [
    "In python you don't need a rigid sintaxis to declare variables, if you type\n",
    "\n",
    "A=1\n",
    "\n",
    "python interpretes A as an integer, also, if you type,\n",
    "\n",
    "A=3.14\n",
    "\n",
    "python deletes the previous assignation to A and makes a new variable declaration for A as a float. This also facilitates memory deallocation practices because you can simply re-use the same variable name in order to optimize memory allocation.\n",
    "\n",
    "String objects are declared with quotes, either \"\" or '', they are equivalent.\n",
    "For example, star=\"betelgeuse\", or star='betelgeuse', both make the same work.\n",
    "\n",
    "Once that you declared a variable, you can latter change the type of variable:"
   ]
  },
  {
   "cell_type": "code",
   "execution_count": 253,
   "metadata": {
    "scrolled": false
   },
   "outputs": [
    {
     "name": "stdout",
     "output_type": "stream",
     "text": [
      "3.14 <class 'float'> hola\n",
      "3 <class 'int'>\n",
      "(3+0j) <class 'complex'>\n",
      "3 <class 'int'>\n",
      "3 <class 'str'>\n"
     ]
    }
   ],
   "source": [
    "a=3.14\n",
    "print (a, type(a), \"hola\")\n",
    "a=int(a)\n",
    "print (a, type(a))\n",
    "a=complex(a)\n",
    "print (a, type(a))\n",
    "a=int(a.real)\n",
    "print (a, type(a))\n",
    "a=str(a)\n",
    "print (a ,type(a))"
   ]
  },
  {
   "cell_type": "markdown",
   "metadata": {},
   "source": [
    "Note when declaring a integer we lose the 0.14"
   ]
  },
  {
   "cell_type": "code",
   "execution_count": 254,
   "metadata": {},
   "outputs": [
    {
     "name": "stdout",
     "output_type": "stream",
     "text": [
      "2\n"
     ]
    }
   ],
   "source": [
    "a=1+2j\n",
    "print (int(a.imag))"
   ]
  },
  {
   "cell_type": "markdown",
   "metadata": {},
   "source": [
    "In python 3 is no longer neccesary to specify that the numerator is a float to have a correct float result"
   ]
  },
  {
   "cell_type": "code",
   "execution_count": 255,
   "metadata": {},
   "outputs": [
    {
     "data": {
      "text/plain": [
       "0.5"
      ]
     },
     "execution_count": 255,
     "metadata": {},
     "output_type": "execute_result"
    }
   ],
   "source": [
    "1/2"
   ]
  },
  {
   "cell_type": "markdown",
   "metadata": {},
   "source": [
    "# Everything is an object\n",
    "An object has attributes, methods, and/or functions.\n",
    "Even the simplest variable is an object, check the methods of the float variable by yourself:\n",
    "after a. hit the TAB key and choose one method, then write the interrogation ? and run the cell."
   ]
  },
  {
   "cell_type": "code",
   "execution_count": 256,
   "metadata": {
    "collapsed": true
   },
   "outputs": [],
   "source": [
    "a=2.72"
   ]
  },
  {
   "cell_type": "code",
   "execution_count": 257,
   "metadata": {
    "collapsed": true
   },
   "outputs": [],
   "source": [
    "a.conjugate?"
   ]
  },
  {
   "cell_type": "markdown",
   "metadata": {},
   "source": [
    "# Make comments in Python\n",
    "In python we use # to wrhite a comment in one line\n",
    "\n",
    "Or \"\"\"   \"\"\"  to write comments in several lines"
   ]
  },
  {
   "cell_type": "code",
   "execution_count": 258,
   "metadata": {},
   "outputs": [
    {
     "name": "stdout",
     "output_type": "stream",
     "text": [
      "hola\n"
     ]
    },
    {
     "data": {
      "text/plain": [
       "'\\nAll of\\nthese lines\\nare ignored\\nby the code\\n'"
      ]
     },
     "execution_count": 258,
     "metadata": {},
     "output_type": "execute_result"
    }
   ],
   "source": [
    "print (\"hola\") # This line is ignored by the code\n",
    "\n",
    "\"\"\"\n",
    "All of\n",
    "these lines\n",
    "are ignored\n",
    "by the code\n",
    "\"\"\""
   ]
  },
  {
   "cell_type": "code",
   "execution_count": 259,
   "metadata": {},
   "outputs": [
    {
     "name": "stdout",
     "output_type": "stream",
     "text": [
      "2.72\n"
     ]
    }
   ],
   "source": [
    "print (a)"
   ]
  },
  {
   "cell_type": "code",
   "execution_count": 260,
   "metadata": {
    "collapsed": true
   },
   "outputs": [],
   "source": [
    "del a"
   ]
  },
  {
   "cell_type": "code",
   "execution_count": 261,
   "metadata": {},
   "outputs": [
    {
     "ename": "NameError",
     "evalue": "name 'a' is not defined",
     "output_type": "error",
     "traceback": [
      "\u001b[0;31m---------------------------------------------------------------------------\u001b[0m",
      "\u001b[0;31mNameError\u001b[0m                                 Traceback (most recent call last)",
      "\u001b[0;32m<ipython-input-261-aa75078140fb>\u001b[0m in \u001b[0;36m<module>\u001b[0;34m()\u001b[0m\n\u001b[0;32m----> 1\u001b[0;31m \u001b[0mprint\u001b[0m \u001b[0;34m(\u001b[0m\u001b[0ma\u001b[0m\u001b[0;34m)\u001b[0m\u001b[0;34m\u001b[0m\u001b[0m\n\u001b[0m",
      "\u001b[0;31mNameError\u001b[0m: name 'a' is not defined"
     ]
    }
   ],
   "source": [
    "print (a)"
   ]
  },
  {
   "cell_type": "markdown",
   "metadata": {},
   "source": [
    "\n",
    "## First computation\n",
    "Now, let's make a simple computation. \n",
    "Let's calculate how much you should tip after a meal.\n",
    "The price of your food is 120 pesos.\n",
    "You must pay an I.V.A. (duty) of 16 %.\n",
    "You want to tip 10 % of your bill, so how much is it?"
   ]
  },
  {
   "cell_type": "code",
   "execution_count": 262,
   "metadata": {},
   "outputs": [
    {
     "name": "stdout",
     "output_type": "stream",
     "text": [
      "Your meal costs 161.47 and you should tip 16.15 pesos\n"
     ]
    }
   ],
   "source": [
    "# This line is ignored when the script is ran\n",
    "meal=120\n",
    "# Let's re-assign the meal variable, including I.V.A.\n",
    "meal = meal + 0.16*meal\n",
    "meal += 0.16*meal\n",
    "# Finally, the tip\n",
    "tip = 0.1*meal\n",
    "print (\"Your meal costs %s and you should tip %s pesos\" % (\"%.2f\" % meal, \"%.2f\" %tip))"
   ]
  },
  {
   "cell_type": "markdown",
   "metadata": {},
   "source": [
    "# Strings\n",
    "String variables are sequences themselves; you can create a string with characters or numbers too.\n",
    "\n",
    "In a sequence of N elements, the index of the first element is 0, and the index of the last element is N-1."
   ]
  },
  {
   "cell_type": "code",
   "execution_count": 263,
   "metadata": {},
   "outputs": [
    {
     "name": "stdout",
     "output_type": "stream",
     "text": [
      "m y s\n",
      "1 5 9\n"
     ]
    }
   ],
   "source": [
    "s=\"mystring\"\n",
    "print (s[0],s[1],s[2])\n",
    "n=\"1579\"\n",
    "print (n[0],n[1],n[3])"
   ]
  },
  {
   "cell_type": "markdown",
   "metadata": {},
   "source": [
    "You can check what kind of string variable you have in hands"
   ]
  },
  {
   "cell_type": "code",
   "execution_count": 264,
   "metadata": {},
   "outputs": [
    {
     "name": "stdout",
     "output_type": "stream",
     "text": [
      "True\n",
      "True\n"
     ]
    }
   ],
   "source": [
    "print ( s.isalpha() )\n",
    "print ( n.isdigit() )"
   ]
  },
  {
   "cell_type": "markdown",
   "metadata": {},
   "source": [
    "# Basic sequences: \n",
    "### lists: \"[]\" is the constructor; it may store different-type objects\n",
    "### tuples: \",\" is the constructor; inmutable sequence, but it may also store different-type objects\n",
    "### numpy.array: numpy.array([]) is the constructor; array of same-type objects, similar to a vector\n",
    "### dict: \"{}\" is the constructor; collections relating a key with a value all of them may be different type objects"
   ]
  },
  {
   "cell_type": "code",
   "execution_count": 265,
   "metadata": {},
   "outputs": [
    {
     "data": {
      "text/plain": [
       "(list, tuple, numpy.ndarray, dict)"
      ]
     },
     "execution_count": 265,
     "metadata": {},
     "output_type": "execute_result"
    }
   ],
   "source": [
    "type([1,'red',7+4j]), type((1,'red',7+4j)), type(np.array([1,2])), type({'cl':'red','lh':5})"
   ]
  },
  {
   "cell_type": "markdown",
   "metadata": {},
   "source": [
    "# Lists\n",
    "\n",
    "[] creates an empty list. Elements of can be of any python variable type and/or a mixture of them."
   ]
  },
  {
   "cell_type": "code",
   "execution_count": 266,
   "metadata": {},
   "outputs": [
    {
     "name": "stdout",
     "output_type": "stream",
     "text": [
      "[3, 6, 9]\n"
     ]
    }
   ],
   "source": [
    "mylist=[3,6,9]\n",
    "print ( mylist )"
   ]
  },
  {
   "cell_type": "markdown",
   "metadata": {},
   "source": [
    "## range\n",
    "range(start,stop,step) creates a list of integers from start (inclusive) to stop (exclusive) separated by step. Defaults are start=0 and step=1."
   ]
  },
  {
   "cell_type": "code",
   "execution_count": 267,
   "metadata": {},
   "outputs": [
    {
     "name": "stdout",
     "output_type": "stream",
     "text": [
      "[10, 12, 14, 16, 18]\n"
     ]
    }
   ],
   "source": [
    "mylist=list(range(10,20,2))\n",
    "print ( mylist )"
   ]
  },
  {
   "cell_type": "markdown",
   "metadata": {},
   "source": [
    "## append\n",
    "If you are familiar with C++ you remember the attribute \"pusch_back\", here append does the same job: it adds a new element at the end of the list."
   ]
  },
  {
   "cell_type": "code",
   "execution_count": 268,
   "metadata": {},
   "outputs": [
    {
     "name": "stdout",
     "output_type": "stream",
     "text": [
      "[10, 12, 14, 16, 18, 22]\n"
     ]
    }
   ],
   "source": [
    "mylist.append(22)\n",
    "print (mylist)"
   ]
  },
  {
   "cell_type": "markdown",
   "metadata": {},
   "source": [
    "## Index\n",
    "You want to know where is the 12?"
   ]
  },
  {
   "cell_type": "code",
   "execution_count": 269,
   "metadata": {},
   "outputs": [
    {
     "name": "stdout",
     "output_type": "stream",
     "text": [
      "The index of 12 is 1\n"
     ]
    }
   ],
   "source": [
    "idx=mylist.index(12)\n",
    "print (\"The index of %s is %s\" % (mylist[idx],idx) )"
   ]
  },
  {
   "cell_type": "markdown",
   "metadata": {},
   "source": [
    "## Pop\n",
    "Maybe we don't want the 12 anymore"
   ]
  },
  {
   "cell_type": "code",
   "execution_count": 270,
   "metadata": {},
   "outputs": [
    {
     "name": "stdout",
     "output_type": "stream",
     "text": [
      "[10, 12, 14, 16, 18, 22]\n",
      "[10, 14, 16, 18, 22]\n"
     ]
    }
   ],
   "source": [
    "print ( mylist )\n",
    "mylist.pop(idx)\n",
    "print ( mylist )"
   ]
  },
  {
   "cell_type": "markdown",
   "metadata": {},
   "source": [
    "Remember our string variable s? We can know the index of any character"
   ]
  },
  {
   "cell_type": "code",
   "execution_count": 271,
   "metadata": {
    "scrolled": true
   },
   "outputs": [
    {
     "name": "stdout",
     "output_type": "stream",
     "text": [
      "mystring\n",
      "1\n",
      "y\n"
     ]
    }
   ],
   "source": [
    "print (s)\n",
    "print (s.index('y'))\n",
    "print (s[1])"
   ]
  },
  {
   "cell_type": "markdown",
   "metadata": {},
   "source": [
    "## Sort\n",
    "Re-orders the elements of a list"
   ]
  },
  {
   "cell_type": "code",
   "execution_count": 272,
   "metadata": {
    "collapsed": true
   },
   "outputs": [],
   "source": [
    "l=[5,6,8,9,0,3,6,3,1,2,5,8,0,4,4,3,1,1,4,5,7]"
   ]
  },
  {
   "cell_type": "code",
   "execution_count": 273,
   "metadata": {},
   "outputs": [
    {
     "name": "stdout",
     "output_type": "stream",
     "text": [
      "[0, 0, 1, 1, 1, 2, 3, 3, 3, 4, 4, 4, 5, 5, 5, 6, 6, 7, 8, 8, 9]\n"
     ]
    }
   ],
   "source": [
    "l.sort()\n",
    "print (l)"
   ]
  },
  {
   "cell_type": "markdown",
   "metadata": {},
   "source": [
    "## Slicing \n",
    "Or accessing elements of a list. \n",
    "\n",
    "The syntax is mylist[start : stop : increment]"
   ]
  },
  {
   "cell_type": "code",
   "execution_count": 274,
   "metadata": {},
   "outputs": [
    {
     "name": "stdout",
     "output_type": "stream",
     "text": [
      "[0, 1, 2, 3, 4, 5, 6, 7, 8, 9, 10, 11, 12, 13, 14, 15, 16, 17, 18, 19]\n"
     ]
    }
   ],
   "source": [
    "mylist=list (range(20))\n",
    "print (mylist)"
   ]
  },
  {
   "cell_type": "code",
   "execution_count": 275,
   "metadata": {},
   "outputs": [
    {
     "name": "stdout",
     "output_type": "stream",
     "text": [
      "[0, 1, 2, 3]\n",
      "[4, 6, 8, 10, 12, 14]\n"
     ]
    }
   ],
   "source": [
    "print ( mylist[0:4] )\n",
    "print ( mylist[4:16:2] )"
   ]
  },
  {
   "cell_type": "markdown",
   "metadata": {},
   "source": [
    "# Linspace\n",
    "\n",
    "numpy.linspace(start, stop, num) creates a list num elements from start to stop (both inclusive); \n",
    "\n",
    "thus, elements can be floats or integers, but no mixtures of variable types."
   ]
  },
  {
   "cell_type": "code",
   "execution_count": 276,
   "metadata": {},
   "outputs": [
    {
     "name": "stdout",
     "output_type": "stream",
     "text": [
      "[ 10.          11.11111111  12.22222222  13.33333333  14.44444444\n",
      "  15.55555556  16.66666667  17.77777778  18.88888889  20.        ]\n"
     ]
    }
   ],
   "source": [
    "myarray=np.linspace(10,20,10)\n",
    "print ( myarray )"
   ]
  },
  {
   "cell_type": "markdown",
   "metadata": {},
   "source": [
    "## Length of objects\n",
    "Very often, you want to know what is the length of your array:"
   ]
  },
  {
   "cell_type": "code",
   "execution_count": 277,
   "metadata": {},
   "outputs": [
    {
     "name": "stdout",
     "output_type": "stream",
     "text": [
      "The length of myarray is 10\n"
     ]
    }
   ],
   "source": [
    "print (\"The length of myarray is %s\" % len(myarray))"
   ]
  },
  {
   "cell_type": "markdown",
   "metadata": {},
   "source": [
    "### Converting different types of sequences\n",
    "Usually you can convert a sequence to a different type:"
   ]
  },
  {
   "cell_type": "code",
   "execution_count": 278,
   "metadata": {
    "scrolled": true
   },
   "outputs": [
    {
     "name": "stdout",
     "output_type": "stream",
     "text": [
      "<class 'list'> [0, 1, 2, 3, 4, 5, 6, 7, 8, 9, 10, 11, 12, 13, 14, 15, 16, 17, 18, 19]\n",
      "<class 'numpy.ndarray'> [ 0  1  2  3  4  5  6  7  8  9 10 11 12 13 14 15 16 17 18 19]\n"
     ]
    }
   ],
   "source": [
    "print ( type(mylist), mylist )\n",
    "mylist=np.array(mylist)\n",
    "print ( type(mylist), mylist )"
   ]
  },
  {
   "cell_type": "markdown",
   "metadata": {},
   "source": [
    "Note: if mylist contains a character (float) then np.array becomes a character (float) array "
   ]
  },
  {
   "cell_type": "markdown",
   "metadata": {},
   "source": [
    "# Numpy arrays\n",
    "are allegedly the most useful sequences in python.\n",
    "\n",
    "The instance np.arange(start,stop,step), is quite similar to range."
   ]
  },
  {
   "cell_type": "code",
   "execution_count": 279,
   "metadata": {},
   "outputs": [
    {
     "name": "stdout",
     "output_type": "stream",
     "text": [
      "[0 1 2 3 4 5 6 7 8]\n"
     ]
    }
   ],
   "source": [
    "mynparray=np.arange(9)\n",
    "print ( mynparray )"
   ]
  },
  {
   "cell_type": "markdown",
   "metadata": {},
   "source": [
    "You can make arrays with different start, size and step:"
   ]
  },
  {
   "cell_type": "code",
   "execution_count": 280,
   "metadata": {},
   "outputs": [
    {
     "name": "stdout",
     "output_type": "stream",
     "text": [
      "[ 0  1  2  3  4  5  6  7  8  9 10 11 12 13 14 15 16 17 18 19]\n",
      "[ 1.   3.5  6.   8.5]\n"
     ]
    }
   ],
   "source": [
    "print (np.arange(20))\n",
    "print (np.arange(1,10,2.5))"
   ]
  },
  {
   "cell_type": "markdown",
   "metadata": {},
   "source": [
    "We can also slide the numpy array as we did before"
   ]
  },
  {
   "cell_type": "markdown",
   "metadata": {},
   "source": [
    "But if you want a 2D array:"
   ]
  },
  {
   "cell_type": "code",
   "execution_count": 281,
   "metadata": {},
   "outputs": [
    {
     "name": "stdout",
     "output_type": "stream",
     "text": [
      "[[0 1 2]\n",
      " [3 4 5]\n",
      " [6 7 8]]\n",
      "\n",
      "[[1 2]\n",
      " [3 4]]\n"
     ]
    }
   ],
   "source": [
    "my2darray=mynparray.reshape([3,3])\n",
    "print (my2darray)\n",
    "#Se pueden crear matrices manualmente\n",
    "print ()\n",
    "print (np.matrix('1,2;3,4'))"
   ]
  },
  {
   "cell_type": "markdown",
   "metadata": {},
   "source": [
    "You can go by element indexes"
   ]
  },
  {
   "cell_type": "code",
   "execution_count": 282,
   "metadata": {},
   "outputs": [
    {
     "name": "stdout",
     "output_type": "stream",
     "text": [
      "4 6\n"
     ]
    }
   ],
   "source": [
    "print (my2darray[1,1], my2darray[2,0])"
   ]
  },
  {
   "cell_type": "code",
   "execution_count": 283,
   "metadata": {},
   "outputs": [
    {
     "data": {
      "text/plain": [
       "array([[4, 5],\n",
       "       [7, 8]])"
      ]
     },
     "execution_count": 283,
     "metadata": {},
     "output_type": "execute_result"
    }
   ],
   "source": [
    "my2darray[1:3,1:3]"
   ]
  },
  {
   "cell_type": "markdown",
   "metadata": {},
   "source": [
    "Even for large arrays you can quickly get the \n",
    "size, shape, minimum, maximum, mean, standard deviation, and much more!"
   ]
  },
  {
   "cell_type": "code",
   "execution_count": 284,
   "metadata": {},
   "outputs": [
    {
     "name": "stdout",
     "output_type": "stream",
     "text": [
      "the length of mynparray is 9\n",
      "the shape is (3, 3)\n",
      "the minimum is 0\n",
      "the maximum is 8\n",
      "the summatory is 36\n",
      "the mean is 4.0\n"
     ]
    }
   ],
   "source": [
    "print (\"the length of mynparray is %s\" % my2darray.size)\n",
    "print (\"the shape is %s\" % (my2darray.shape,))\n",
    "print (\"the minimum is %s\" % my2darray.min())\n",
    "print (\"the maximum is %s\" % my2darray.max())\n",
    "print (\"the summatory is %s\" % my2darray.sum())\n",
    "print (\"the mean is %s\" % my2darray.mean())"
   ]
  },
  {
   "cell_type": "markdown",
   "metadata": {},
   "source": [
    "Slicing numpy arrays is very similar as with lists"
   ]
  },
  {
   "cell_type": "code",
   "execution_count": 285,
   "metadata": {},
   "outputs": [
    {
     "name": "stdout",
     "output_type": "stream",
     "text": [
      "[[ 2  4  6  8 10 12 14]\n",
      " [16 18 20 22 24 26 28]\n",
      " [30 32 34 36 38 40 42]\n",
      " [44 46 48 50 52 54 56]\n",
      " [58 60 62 64 66 68 70]\n",
      " [72 74 76 78 80 82 84]\n",
      " [86 88 90 92 94 96 98]]\n"
     ]
    }
   ],
   "source": [
    "my2darray=np.arange(2,100,2).reshape([7,7])\n",
    "print (my2darray)"
   ]
  },
  {
   "cell_type": "code",
   "execution_count": 286,
   "metadata": {},
   "outputs": [
    {
     "data": {
      "text/plain": [
       "array([[ 2,  4,  6],\n",
       "       [16, 18, 20],\n",
       "       [30, 32, 34]])"
      ]
     },
     "execution_count": 286,
     "metadata": {},
     "output_type": "execute_result"
    }
   ],
   "source": [
    "my2darray[0:3,0:3]"
   ]
  },
  {
   "cell_type": "markdown",
   "metadata": {},
   "source": [
    "Let's compute the transpose and trace"
   ]
  },
  {
   "cell_type": "code",
   "execution_count": 287,
   "metadata": {},
   "outputs": [
    {
     "name": "stdout",
     "output_type": "stream",
     "text": [
      "[[ 2 16 30 44 58 72 86]\n",
      " [ 4 18 32 46 60 74 88]\n",
      " [ 6 20 34 48 62 76 90]\n",
      " [ 8 22 36 50 64 78 92]\n",
      " [10 24 38 52 66 80 94]\n",
      " [12 26 40 54 68 82 96]\n",
      " [14 28 42 56 70 84 98]]\n",
      "\n",
      "350\n"
     ]
    }
   ],
   "source": [
    "print (my2darray.T)\n",
    "print ()\n",
    "print (my2darray.trace())"
   ]
  },
  {
   "cell_type": "markdown",
   "metadata": {},
   "source": [
    "# Dictionaries\n",
    "\n",
    "This is a mutable sequence of different types of objects"
   ]
  },
  {
   "cell_type": "code",
   "execution_count": 288,
   "metadata": {},
   "outputs": [
    {
     "name": "stdout",
     "output_type": "stream",
     "text": [
      "{}\n",
      "{'color': 'red'}\n",
      "{'color': 'red', 'age': 9}\n"
     ]
    }
   ],
   "source": [
    "mydict={}\n",
    "print (mydict)\n",
    "mydict['color']='red'\n",
    "print (mydict)\n",
    "mydict['age']=9\n",
    "print (mydict)"
   ]
  },
  {
   "cell_type": "markdown",
   "metadata": {},
   "source": [
    "A dictionary is made of keys and values"
   ]
  },
  {
   "cell_type": "code",
   "execution_count": 289,
   "metadata": {},
   "outputs": [
    {
     "name": "stdout",
     "output_type": "stream",
     "text": [
      "dict_keys(['color', 'age'])\n",
      "dict_values(['red', 9])\n"
     ]
    }
   ],
   "source": [
    "print (mydict.keys())\n",
    "print (mydict.values())"
   ]
  },
  {
   "cell_type": "markdown",
   "metadata": {},
   "source": [
    "Dictionaries could be thought as lists of pair-wise elements. You may access to an element value using the element key:"
   ]
  },
  {
   "cell_type": "code",
   "execution_count": 290,
   "metadata": {},
   "outputs": [
    {
     "name": "stdout",
     "output_type": "stream",
     "text": [
      "9\n",
      "red\n"
     ]
    }
   ],
   "source": [
    "print (mydict['age'])\n",
    "print (mydict['color'])"
   ]
  },
  {
   "cell_type": "markdown",
   "metadata": {},
   "source": [
    "# Basic flux:    if, elif, and else \n",
    "## Indentation:\n",
    "In python indentation is not only helpful to view structures, \n",
    "but also is part of syntax. \n",
    "The number of blanck spaces to be indented is a choice, but you must be consistent with the following lines in each block."
   ]
  },
  {
   "cell_type": "code",
   "execution_count": 291,
   "metadata": {},
   "outputs": [
    {
     "name": "stdout",
     "output_type": "stream",
     "text": [
      "Ok\n"
     ]
    }
   ],
   "source": [
    "myboolvar=True\n",
    "if myboolvar==True:\n",
    "    print (\"Ok\")"
   ]
  },
  {
   "cell_type": "code",
   "execution_count": 292,
   "metadata": {},
   "outputs": [
    {
     "name": "stdout",
     "output_type": "stream",
     "text": [
      "This little dog is cute\n"
     ]
    }
   ],
   "source": [
    "animalvar='dog'\n",
    "if animalvar=='dog':\n",
    "    print (\"This little %s is cute\" % animalvar)\n",
    "elif animalvar=='cat':\n",
    "    print (\"This %s is bad-tempered\" % animalvar)\n",
    "    print (\"hola\")\n",
    "else:\n",
    "    print (\"This whatever is weird\")"
   ]
  },
  {
   "cell_type": "markdown",
   "metadata": {},
   "source": [
    "# Bucles"
   ]
  },
  {
   "cell_type": "code",
   "execution_count": 293,
   "metadata": {},
   "outputs": [
    {
     "data": {
      "text/plain": [
       "[1, 3, 5]"
      ]
     },
     "execution_count": 293,
     "metadata": {},
     "output_type": "execute_result"
    }
   ],
   "source": [
    "list(range(1,6,2))"
   ]
  },
  {
   "cell_type": "code",
   "execution_count": 294,
   "metadata": {
    "scrolled": true
   },
   "outputs": [
    {
     "name": "stdout",
     "output_type": "stream",
     "text": [
      "2\n",
      "6\n",
      "10\n",
      "\n",
      "c\n",
      "h\n",
      "a\n",
      "r\n",
      "a\n",
      "c\n",
      "t\n",
      "e\n",
      "r\n"
     ]
    }
   ],
   "source": [
    "for i in range(1,6,2):\n",
    "    print (2*i)\n",
    "print ()\n",
    "for j in \"character\":\n",
    "    print (j)"
   ]
  },
  {
   "cell_type": "markdown",
   "metadata": {},
   "source": [
    "We can make to work loops and conditional expresions together"
   ]
  },
  {
   "cell_type": "code",
   "execution_count": 295,
   "metadata": {},
   "outputs": [
    {
     "name": "stdout",
     "output_type": "stream",
     "text": [
      "number 0 is forbidden\n",
      "[1.0, 0.5, 0.3333333333333333, 0.25, 0.2, 0.16666666666666666, 0.14285714285714285, 0.125, 0.1111111111111111]\n"
     ]
    }
   ],
   "source": [
    "quotlist=[]\n",
    "for idx in range(10):\n",
    "    if idx!=0:\n",
    "        quotlist.append( 1./idx )\n",
    "    else:\n",
    "        print (\"number 0 is forbidden\")\n",
    "print (quotlist)"
   ]
  },
  {
   "cell_type": "markdown",
   "metadata": {},
   "source": [
    "## Interrupting loops. \n",
    "Continue will return to the beggining of the loop ignoring anything beyond. "
   ]
  },
  {
   "cell_type": "code",
   "execution_count": 296,
   "metadata": {
    "scrolled": true
   },
   "outputs": [
    {
     "name": "stdout",
     "output_type": "stream",
     "text": [
      "1 is a good number\n",
      "2 is a good number\n",
      "3 is a good number\n",
      "4 is a good number\n",
      "5 is a good number\n",
      "6 is a good number\n",
      "7 is a good number\n",
      "8 is a good number\n",
      "9 is a good number\n",
      "[1.0, 0.5, 0.3333333333333333, 0.25, 0.2, 0.16666666666666666, 0.14285714285714285, 0.125, 0.1111111111111111]\n"
     ]
    }
   ],
   "source": [
    "quotlist=[]\n",
    "for idx in range(10):\n",
    "    if idx==0:\n",
    "        continue\n",
    "    else:\n",
    "        print (\"%s is a good number\" % idx)\n",
    "        quotlist.append( 1./idx )\n",
    "print (quotlist)"
   ]
  },
  {
   "cell_type": "markdown",
   "metadata": {},
   "source": [
    "Break will kill the loop and return the execution to the command line."
   ]
  },
  {
   "cell_type": "code",
   "execution_count": 297,
   "metadata": {},
   "outputs": [
    {
     "name": "stdout",
     "output_type": "stream",
     "text": [
      "1 is a good number\n",
      "2 is a good number\n",
      "3 is a good number\n",
      "4 is a good number\n",
      "I only like numbers below 5\n",
      "[1.0, 0.5, 0.3333333333333333, 0.25]\n"
     ]
    }
   ],
   "source": [
    "quotlist=[]\n",
    "for idx in range(10):\n",
    "    if idx==0:\n",
    "        continue\n",
    "    elif idx<5:\n",
    "        print (\"%s is a good number\" % idx)\n",
    "        quotlist.append( 1./idx )\n",
    "    else:\n",
    "        print (\"I only like numbers below 5\")\n",
    "        break\n",
    "print (quotlist)"
   ]
  },
  {
   "cell_type": "markdown",
   "metadata": {},
   "source": [
    "Because the risk of ethernal execution, the While statement should only be used if it is really necessary, this is a good practice."
   ]
  },
  {
   "cell_type": "code",
   "execution_count": 298,
   "metadata": {},
   "outputs": [
    {
     "name": "stdout",
     "output_type": "stream",
     "text": [
      "0 is lower than limit\n",
      "1 is lower than limit\n",
      "2 is lower than limit\n",
      "3 is lower than limit\n"
     ]
    }
   ],
   "source": [
    "idx=0\n",
    "while idx<4:\n",
    "    print (\"%s is lower than limit\" % idx)\n",
    "    idx+=1"
   ]
  },
  {
   "cell_type": "markdown",
   "metadata": {},
   "source": [
    "We've just used the \"+=\" notation wich is a shortcut for idx=idx+1"
   ]
  },
  {
   "cell_type": "markdown",
   "metadata": {},
   "source": [
    "## not in list"
   ]
  },
  {
   "cell_type": "code",
   "execution_count": 299,
   "metadata": {},
   "outputs": [
    {
     "name": "stdout",
     "output_type": "stream",
     "text": [
      "[0, 2, 4, 6, 8]\n"
     ]
    }
   ],
   "source": [
    "evens=list(range(0,10,2))\n",
    "print (evens)"
   ]
  },
  {
   "cell_type": "code",
   "execution_count": 300,
   "metadata": {},
   "outputs": [
    {
     "name": "stdout",
     "output_type": "stream",
     "text": [
      "1 is not an even number\n",
      "3 is not an even number\n",
      "5 is not an even number\n",
      "7 is not an even number\n",
      "9 is not an even number\n"
     ]
    }
   ],
   "source": [
    "for number in range(10):\n",
    "    if number not in evens:\n",
    "        print (\"%s is not an even number\" % number)"
   ]
  },
  {
   "cell_type": "markdown",
   "metadata": {},
   "source": [
    "# and or"
   ]
  },
  {
   "cell_type": "code",
   "execution_count": 301,
   "metadata": {},
   "outputs": [
    {
     "name": "stdout",
     "output_type": "stream",
     "text": [
      "you should seriously reconsider your love for pets\n"
     ]
    }
   ],
   "source": [
    "# Play with different values of the variables animal and housesize, \n",
    "# see the effect with the \"and\" and \"or\" statements\n",
    "animal='elephant'\n",
    "housesize=5\n",
    "if animal=='dog' and housesize<50:\n",
    "    print (\"The house is too small for a %s, you should choose a smaller pet\" % animal)\n",
    "    print ()\n",
    "elif animal=='cat' and housesize>50:\n",
    "    print (\"The house is big enough, you need a big guardian to take care\")\n",
    "elif animal=='elephant' or housesize<20:\n",
    "    print (\"you should seriously reconsider your love for pets\")\n",
    "else:\n",
    "    print (\"This whatever is weird\")"
   ]
  },
  {
   "cell_type": "markdown",
   "metadata": {},
   "source": [
    "# Functions\n",
    "User defined functions are the right way to start writing your own code\n",
    "\n",
    "The syntax is simple, just take care of indentation!"
   ]
  },
  {
   "cell_type": "code",
   "execution_count": 302,
   "metadata": {
    "collapsed": true
   },
   "outputs": [],
   "source": [
    "def my_square(n):\n",
    "    \"\"\"This function computes \n",
    "    the square of a given number\"\"\"\n",
    "    return n**2"
   ]
  },
  {
   "cell_type": "code",
   "execution_count": 303,
   "metadata": {},
   "outputs": [
    {
     "name": "stdout",
     "output_type": "stream",
     "text": [
      "The square of 5 is 25\n"
     ]
    }
   ],
   "source": [
    "r=5\n",
    "print (\"The square of %s is %s\" % (r, my_square(r)))"
   ]
  },
  {
   "cell_type": "markdown",
   "metadata": {},
   "source": [
    "## Example: \"Is prime?\" function\n",
    "Write a function that tells whether a number is prime or not. Before any work, check the input data is accptable, reject the data otherwise."
   ]
  },
  {
   "cell_type": "code",
   "execution_count": 304,
   "metadata": {
    "collapsed": true
   },
   "outputs": [],
   "source": [
    "def Isprime(x):\n",
    "    \"\"\"This function takes a natural number x \n",
    "    and checks whether it is prime or not.\"\"\"\n",
    "\n",
    "    if type(x)!=int or x<2:\n",
    "        print (\"wrong input number, try again\")\n",
    "        # Notice that: 1) this return is called only if the above condition is satisfied\n",
    "        # 2) in that case, it returns None\n",
    "        return\n",
    "\n",
    "    # Let's initialize our most important variable\n",
    "    if x == 2:\n",
    "        # In this case we change our judgement\n",
    "        decision = \"prime\"\n",
    "        return True\n",
    "    # Let's see if the input number x is divisible by any n<x\n",
    "    for n in range(2,x):\n",
    "        # Uncoment the next line if you want to play\n",
    "        #print \"n=\",n, \"modulo=\", x % n  \n",
    "        if x % n == 0:\n",
    "            # in this case is pointless to keep checking, so, let's break the loop\n",
    "            decision = \"no\"\n",
    "            break\n",
    "        else:\n",
    "            # If x is not divisible by any n<x, then we found a prime number,\n",
    "            # so we change our choice \n",
    "            decision = \"prime\"\n",
    "\n",
    "    # According to our evaluations...\n",
    "    if decision == \"prime\":\n",
    "        return True\n",
    "    else:\n",
    "        return False"
   ]
  },
  {
   "cell_type": "code",
   "execution_count": 305,
   "metadata": {},
   "outputs": [
    {
     "data": {
      "text/plain": [
       "False"
      ]
     },
     "execution_count": 305,
     "metadata": {},
     "output_type": "execute_result"
    }
   ],
   "source": [
    "Isprime(10)"
   ]
  },
  {
   "cell_type": "markdown",
   "metadata": {},
   "source": [
    "# Reading and writing different data"
   ]
  },
  {
   "cell_type": "markdown",
   "metadata": {},
   "source": [
    "The simplest way is  to read a txt file with numpy"
   ]
  },
  {
   "cell_type": "code",
   "execution_count": 306,
   "metadata": {
    "collapsed": true
   },
   "outputs": [],
   "source": [
    "mA = np.loadtxt('matriz_simetrica.txt') #This will read the 33x33 matriz contained in this folder\n",
    "mB = mA.T #This computes the transpose\n",
    "#Now lets export the matrix mB\n",
    "np.savetxt('transpuesta.txt',mB)"
   ]
  },
  {
   "cell_type": "markdown",
   "metadata": {},
   "source": [
    "## hdf5\n",
    "Now lets see how to write and read this kind of files\n"
   ]
  },
  {
   "cell_type": "code",
   "execution_count": 307,
   "metadata": {
    "collapsed": true
   },
   "outputs": [],
   "source": [
    "# create random data with numpy\n",
    "data_matrix = np.random.uniform(-1, 1, size=(10, 3))\n",
    "\n",
    "# WRITE data to HDF5\n",
    "data_file = h5py.File('archivo.hdf5', 'w')\n",
    "data_file.create_dataset('group_name', data=data_matrix)\n",
    "data_file.close()"
   ]
  },
  {
   "cell_type": "code",
   "execution_count": 308,
   "metadata": {},
   "outputs": [
    {
     "name": "stdout",
     "output_type": "stream",
     "text": [
      "Keys: KeysView(<HDF5 file \"archivo.hdf5\" (mode r)>)\n"
     ]
    }
   ],
   "source": [
    "# Now read the hdf5 file\n",
    "f = h5py.File('archivo.hdf5', 'r')\n",
    "\n",
    "# List all groups\n",
    "print(\"Keys: %s\" % f.keys())\n",
    "a_group_key = list(f.keys())[0]\n",
    "\n",
    "# Get the data\n",
    "data = list(f[a_group_key])"
   ]
  },
  {
   "cell_type": "markdown",
   "metadata": {},
   "source": [
    "## Binary files"
   ]
  },
  {
   "cell_type": "code",
   "execution_count": 309,
   "metadata": {
    "collapsed": true
   },
   "outputs": [],
   "source": [
    "# Write binary data to a file\n",
    "with open('somefile.bin', 'wb') as f:\n",
    "    f.write(b'Hello World')"
   ]
  },
  {
   "cell_type": "code",
   "execution_count": 310,
   "metadata": {},
   "outputs": [
    {
     "name": "stdout",
     "output_type": "stream",
     "text": [
      "b'Hello World'\n",
      "Hello World\n"
     ]
    }
   ],
   "source": [
    "with open('somefile.bin', 'rb') as f:\n",
    "    data = f.read()\n",
    "    text = data.decode('utf-8')\n",
    "print (data)\n",
    "print (text)"
   ]
  },
  {
   "cell_type": "code",
   "execution_count": 311,
   "metadata": {
    "collapsed": true
   },
   "outputs": [],
   "source": [
    "#to encode again\n",
    "with open('somefile.bin', 'wb') as f:\n",
    "    text = 'Hello World'\n",
    "    f.write(text.encode('utf-8'))"
   ]
  },
  {
   "cell_type": "markdown",
   "metadata": {},
   "source": [
    "# Exercise with lists\n",
    "\n",
    "Order alphabetically the elements of mystring"
   ]
  },
  {
   "cell_type": "code",
   "execution_count": 312,
   "metadata": {
    "collapsed": true
   },
   "outputs": [],
   "source": [
    "mystring=\"SFNGKLJDFIGHQRUkdjfgdlfhkjsdnfbTYBR\""
   ]
  },
  {
   "cell_type": "code",
   "execution_count": null,
   "metadata": {
    "collapsed": true
   },
   "outputs": [],
   "source": []
  },
  {
   "cell_type": "markdown",
   "metadata": {},
   "source": [
    "From the following list,\n",
    "\n",
    "1) Print the index of the elements 'g' and 5.\n",
    "\n",
    "2) Print the first element and the last element.\n",
    "\n",
    "3) Print first five elements\n",
    "\n",
    "4) Print the last five elements\n",
    "\n",
    "5) Print the first eight elements skipping by a step equals two\n",
    "\n",
    "6) Print the first ten even elements (use the operator modulus A%2==0)\n",
    "\n",
    "7) Print the type of each element, if the type is string, print \"lists allow different type objects\""
   ]
  },
  {
   "cell_type": "code",
   "execution_count": 313,
   "metadata": {
    "collapsed": true
   },
   "outputs": [],
   "source": [
    "onelist=[2,5,'g',7,8,'d','w',3,5,7,8]"
   ]
  },
  {
   "cell_type": "code",
   "execution_count": null,
   "metadata": {
    "collapsed": true
   },
   "outputs": [],
   "source": []
  },
  {
   "cell_type": "markdown",
   "metadata": {},
   "source": [
    "# Exercise with lists:\n",
    "Reverse the string \"nufsinohtyp\" directly from the lists attributes."
   ]
  },
  {
   "cell_type": "code",
   "execution_count": 314,
   "metadata": {
    "collapsed": true
   },
   "outputs": [],
   "source": [
    "s=\"nufsinohtyp\""
   ]
  },
  {
   "cell_type": "code",
   "execution_count": null,
   "metadata": {
    "collapsed": true
   },
   "outputs": [],
   "source": []
  },
  {
   "cell_type": "markdown",
   "metadata": {},
   "source": [
    "# Exercise with lists:\n",
    "From the following list a, generate a new list b with the non-repeated elements of a"
   ]
  },
  {
   "cell_type": "code",
   "execution_count": 315,
   "metadata": {
    "collapsed": true
   },
   "outputs": [],
   "source": [
    "a = [1,1,2,2,3,3,4,4,5,5,6,6,7,7,8,8,9,9,10,10]"
   ]
  },
  {
   "cell_type": "code",
   "execution_count": null,
   "metadata": {
    "collapsed": true
   },
   "outputs": [],
   "source": []
  },
  {
   "cell_type": "markdown",
   "metadata": {},
   "source": [
    "# Exercise with dictionaries\n",
    "Make your own dictionary of supermarket: items with prices."
   ]
  },
  {
   "cell_type": "code",
   "execution_count": null,
   "metadata": {
    "collapsed": true
   },
   "outputs": [],
   "source": []
  },
  {
   "cell_type": "markdown",
   "metadata": {},
   "source": [
    "# Excercise with numpy\n",
    "\n",
    "Are we sure that \"matriz_simetrica.txt\" is symmetric? try to prove it"
   ]
  },
  {
   "cell_type": "code",
   "execution_count": null,
   "metadata": {
    "collapsed": true
   },
   "outputs": [],
   "source": []
  },
  {
   "cell_type": "code",
   "execution_count": null,
   "metadata": {
    "collapsed": true
   },
   "outputs": [],
   "source": []
  }
 ],
 "metadata": {
  "kernelspec": {
   "display_name": "Python 3",
   "language": "python",
   "name": "python3"
  },
  "language_info": {
   "codemirror_mode": {
    "name": "ipython",
    "version": 3
   },
   "file_extension": ".py",
   "mimetype": "text/x-python",
   "name": "python",
   "nbconvert_exporter": "python",
   "pygments_lexer": "ipython3",
   "version": "3.6.2"
  }
 },
 "nbformat": 4,
 "nbformat_minor": 1
}
